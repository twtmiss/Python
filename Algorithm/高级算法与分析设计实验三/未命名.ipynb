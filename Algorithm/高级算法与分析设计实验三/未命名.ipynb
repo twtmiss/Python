{
 "cells": [
  {
   "cell_type": "markdown",
   "metadata": {},
   "source": [
    "# 7-1 Plan （15 分)\n",
    "\n",
    "Qingdao Institute of Technology is the highest academic institution in Jiaozhou, so it has extremely strict discipline. In order to get a good grades, Li had to prepare a review route in advance to cope with the fianl exam. There are n liberal arts exams in this semester, and there are 4 exam subjects, namely politics, history, geography and synthesis. Every time you take a test but it is uncertain, so Li don't know which course to review before the exam. He hopes to predict the exams that may be tested next time. So he collected information in previous liberal arts exams. From the previous exams, he discovered several rules:\n",
    "\n",
    "    If the test is political, then the next time you will test the history;\n",
    "    If the test is comprehensive, then the next time you will test the geography;\n",
    "    If the test is history, then the next time you will take politics or geography;\n",
    "    If the test is geography, then the next time you either take the test or combine it. Li already knows that the first exam in this semester is political. He intends to develop an exam review plan that can address all possible situations. Therefore, he would like to know how many possible test subjects are arranged throughout the semester to meet the above rules.\n",
    "\n",
    "输入格式:\n",
    "\n",
    "A positive integer n represents the total number of exams for the semester. The input data is guaranteed to be n<=10000.\n",
    "输出格式:\n",
    "\n",
    "A positive integer indicating the total number of subject arrangements for the rule. Considering that this result can be very large, you only need to output the value of mod 7654321."
   ]
  },
  {
   "cell_type": "code",
   "execution_count": 3,
   "metadata": {},
   "outputs": [
    {
     "name": "stdout",
     "output_type": "stream",
     "text": [
      "5\n",
      "[['political']]\n",
      "111\n",
      "['political']\n",
      "political\n",
      "for2history\n",
      "111\n",
      "['history']\n",
      "history\n",
      "for2political\n",
      "for2geography\n",
      "111\n",
      "['political', 'geography']\n",
      "political\n",
      "for2history\n",
      "geography\n",
      "for2history\n",
      "for2comprehensive\n",
      "111\n",
      "['history', 'history', 'comprehensive']\n",
      "history\n",
      "for2political\n",
      "for2geography\n",
      "history\n",
      "for2political\n",
      "for2geography\n",
      "comprehensive\n",
      "for2geography\n",
      "haha\n",
      "5\n",
      "['political']\n",
      "['history']\n",
      "['political', 'geography']\n",
      "['history', 'history', 'comprehensive']\n",
      "['political', 'geography', 'political', 'geography', 'geography']\n",
      "5\n"
     ]
    }
   ],
   "source": [
    "test_dict = {\"political\":[\"history\"],\"comprehensive\":[\"geography\"],\"history\":[\"political\",\"geography\"],\"geography\":[\"history\",\"comprehensive\"]}\n",
    "def a():\n",
    "    n=int(input())\n",
    "    m=1\n",
    "    li = [[\"political\"]]\n",
    "    lit = []\n",
    "    test_first = \"political\"\n",
    "    #li.append(test_dict[test_first])\n",
    "    print(li)\n",
    "    while(m<n):\n",
    "        \n",
    "        for li1 in li:\n",
    "            if(m>=n):\n",
    "                break\n",
    "            print(\"111\")\n",
    "            print(li1)\n",
    "            for qw in li1:\n",
    "                print(qw)\n",
    "                for str in test_dict[qw]:\n",
    "                    print(\"for2\"+str)\n",
    "                    lit.append(str)\n",
    "            li.append(lit)\n",
    "            lit=[]\n",
    "            \n",
    "            m=m+1\n",
    "        print(\"haha\")\n",
    "    \n",
    "    print(len(li))\n",
    "    for i in li:\n",
    "        print(i)\n",
    "    print(len(li[n-1]))\n",
    "    \n",
    "a()\n",
    "    \n",
    "        "
   ]
  },
  {
   "cell_type": "code",
   "execution_count": 3,
   "metadata": {},
   "outputs": [
    {
     "name": "stdout",
     "output_type": "stream",
     "text": [
      "5\n"
     ]
    },
    {
     "data": {
      "text/plain": [
       "5"
      ]
     },
     "execution_count": 3,
     "metadata": {},
     "output_type": "execute_result"
    }
   ],
   "source": [
    "def b(n):\n",
    "    if n == 0:\n",
    "        return 0\n",
    "    if n == 1:\n",
    "        return 1\n",
    "    else:\n",
    "        return b(n-1) % 7654321 + b(n-2) % 7654321\n",
    "    \n",
    "n =int(input())\n",
    "b(n)\n",
    "    "
   ]
  },
  {
   "cell_type": "code",
   "execution_count": null,
   "metadata": {},
   "outputs": [],
   "source": [
    "li = [[\"political\"]]\n",
    "for i in li[0]:\n",
    "    print(i)"
   ]
  },
  {
   "cell_type": "markdown",
   "metadata": {},
   "source": [
    "# Maximum Subsequence Sum\n",
    "Given a sequence of K integers { N​1​​ , N​2​​ , ..., N​K​​  }. A continuous subsequence is defined to be { N​i​​ , N​i+1​​ , ..., N​j​​  } where 1≤i≤j≤K. The Maximum Subsequence is the continuous subsequence which has the largest sum of its elements. For example, given sequence { -2, 11, -4, 13, -5, -2 }, its maximum subsequence is { 11, -4, 13 } with the largest sum being 20.\n",
    "\n",
    "Now you are supposed to find the largest sum, together with the first and the last numbers of the maximum subsequence.\n",
    "\n",
    "Input Specification:\n",
    "Each input file contains one test case. Each case occupies two lines. The first line contains a positive integer K (≤10000). The second line contains K numbers, separated by a space.\n",
    "\n",
    "Output Specification:\n",
    "For each test case, output in one line the largest sum, together with the first and the last numbers of the maximum subsequence. The numbers must be separated by one space, but there must be no extra space at the end of a line. In case that the maximum subsequence is not unique, output the one with the smallest indices i and j (as shown by the sample case). If all the K numbers are negative, then its maximum sum is defined to be 0, and you are supposed to output the first and the last numbers of the whole sequence.\n",
    "\n",
    "Sample Input:\n",
    "10\n",
    "-10 1 2 3 4 -5 -23 3 7 -21\n",
    "Sample Output:\n",
    "10 1 4\n"
   ]
  },
  {
   "cell_type": "code",
   "execution_count": null,
   "metadata": {
    "scrolled": true
   },
   "outputs": [],
   "source": [
    "'''\n",
    "dic ={\n",
    "    'fir'=\n",
    "    'las'=\n",
    "    num\n",
    "}\n",
    "\n",
    "int a\n",
    "int b\n",
    "\n",
    "if a<0\n",
    "    fir+1\n",
    "if fir_value < 0\n",
    "    fir++\n",
    "'''\n",
    "\n",
    "dict={\"first\":0,\"last\":0,\"num\":0}\n",
    "fir=0\n",
    "def fnum(n1,n2):\n",
    "    fnum_num = 0\n",
    "    for i in range(n1,n2+1):\n",
    "        fnum_num += li[i]\n",
    "    return fnum_num\n",
    "num_n = int(input())\n",
    "num_str = input().split()\n",
    "print(num_str)\n",
    "li=[]\n",
    "for num_in in num_str:\n",
    "    li.append(int(num_in))\n",
    "\n",
    "bol=True\n",
    "for las in range(1,len(li)-1):\n",
    "    print(\"fir:\"+str(fir))\n",
    "    print(\"las:\"+str(las))\n",
    "    a=fnum(fir,las)\n",
    "    print(\"a:\"+str(a))\n",
    "    b=fnum(fir,las+1)\n",
    "    print(\"b:\"+str(b))\n",
    "    if a <= 0:\n",
    "        fir+=1\n",
    "        continue\n",
    "    if a <= b:\n",
    "        a=b\n",
    "        if dict[\"num\"] <= a:\n",
    "            dict[\"first\"]=fir\n",
    "            dict[\"last\"]=las+1\n",
    "            dict[\"num\"]=a\n",
    "    \n",
    "    print(\"qf\")\n",
    "    print(dict[\"first\"]+\" \"+dict[\"last\"]+\" \"+dict[\"num\"])\n",
    "    print(dict[\"first\"])\n",
    "    print(dict[\"last\"])\n",
    "    print(dict[\"num\"])\n",
    "    print(\"qe\")\n",
    "    \n",
    "    "
   ]
  },
  {
   "cell_type": "code",
   "execution_count": null,
   "metadata": {},
   "outputs": [],
   "source": [
    "li=[1,-10,2,3,4,-5,-23,3,7,-21]"
   ]
  },
  {
   "cell_type": "code",
   "execution_count": null,
   "metadata": {},
   "outputs": [],
   "source": []
  }
 ],
 "metadata": {
  "kernelspec": {
   "display_name": "Python 3",
   "language": "python",
   "name": "python3"
  },
  "language_info": {
   "codemirror_mode": {
    "name": "ipython",
    "version": 3
   },
   "file_extension": ".py",
   "mimetype": "text/x-python",
   "name": "python",
   "nbconvert_exporter": "python",
   "pygments_lexer": "ipython3",
   "version": "3.7.3"
  }
 },
 "nbformat": 4,
 "nbformat_minor": 2
}
