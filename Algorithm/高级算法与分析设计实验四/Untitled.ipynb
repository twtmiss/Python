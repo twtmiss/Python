{
 "cells": [
  {
   "cell_type": "markdown",
   "metadata": {},
   "source": [
    "“今年暑假不AC？”\n",
    "\n",
    "“是的。”\n",
    "“那你干什么呢？”\n",
    "“看世界杯呀，笨蛋！”\n",
    "“@#$%^&*%...”\n",
    "\n",
    "确实如此，世界杯来了，球迷的节日也来了，估计很多ACMer也会抛开电脑，奔向电视了。\n",
    "作为球迷，一定想看尽量多的完整的比赛，当然，作为新时代的好青年，你一定还会看一些其它的节目，比如新闻联播（永远不要忘记关心国家大事）、非常6+7、超级女生，以及王小丫的《开心辞典》等等， 假设你已经知道了所有你喜欢看的电视节目的转播时间表，你会合理安排吗？（目标是能看尽量多的完整节目）\n",
    "\n",
    "输入格式:\n",
    "输入数据包含多个测试实例，每个测试实例的第一行只有一个整数n(n<=100)，表示你喜欢看的节目的总数，然后是n行数据，每行包括两个数据Ti_s,Ti_e (1<=i<=n)，分别表示第i个节目的开始和结束时间，为了简化问题，每个时间都用一个正整数表示。n=0表示输入结束，不做处理。\n",
    "\n",
    "输出格式:\n",
    "对于每个测试实例，输出能完整看到的电视节目的个数，每个测试实例的输出占一行。\n",
    "\n",
    "输入样例:\n",
    "在这里给出一组输入。例如：\n",
    "\n",
    "12\n",
    "1 3\n",
    "3 4\n",
    "0 7\n",
    "3 8\n",
    "15 19\n",
    "15 20\n",
    "10 15\n",
    "8 18\n",
    "6 12\n",
    "5 10\n",
    "4 14\n",
    "2 9\n",
    "0\n",
    "输出样例:\n",
    "在这里给出相应的输出。例如：\n",
    "\n",
    "5"
   ]
  },
  {
   "cell_type": "code",
   "execution_count": null,
   "metadata": {},
   "outputs": [],
   "source": [
    "def fun_in():\n",
    "    num = int(input())\n",
    "    li = []\n",
    "    for i in range(num):\n",
    "        li.append(input().split())\n",
    "    print(li)\n",
    "    return li\n",
    "\n",
    "def fun_sc(li):\n",
    "    teli = []\n",
    "    for m in range(len(li)):\n",
    "        for i in range(m,len(li)-1):\n",
    "            if li[i][1] >= li[i+1][1]:\n",
    "                if li[i][0] > li[i+1][0] or li[i][1] == li[i+1][1]:\n",
    "                    teli[0] = li[i]\n",
    "                    li[i] = li[+1]\n",
    "                    li[i+1] = teli[0]\n",
    "    return li\n",
    "\n",
    "def fun_ac(li):\n",
    "    li2 = []\n",
    "    li2.append(li[0])\n",
    "    #li2 = li[0]\n",
    "    for m in range(len(li)):\n",
    "        for i in li:\n",
    "            #print(li2)\n",
    "            #print(i)\n",
    "            ##print()\n",
    "            if int(i[0]) > int(li2[-1][1]):\n",
    "                li2.append(i)\n",
    "    return len(li2)\n",
    "\n",
    "def fun_zc():\n",
    "    m_li = fun_sc(fun_in())\n",
    "    print(fun_ac(m_li))\n",
    "    \n",
    "if __name__ == '__main__':\n",
    "    fun_zc()\n",
    "    while int(input()) != 0:\n",
    "        fun_zc()\n",
    "        \n",
    "    "
   ]
  },
  {
   "cell_type": "code",
   "execution_count": 5,
   "metadata": {},
   "outputs": [
    {
     "data": {
      "text/plain": [
       "'3'"
      ]
     },
     "execution_count": 5,
     "metadata": {},
     "output_type": "execute_result"
    }
   ],
   "source": [
    "li3 = [['1','3']]\n",
    "li3[-1][1]"
   ]
  },
  {
   "cell_type": "code",
   "execution_count": 2,
   "metadata": {},
   "outputs": [
    {
     "name": "stdout",
     "output_type": "stream",
     "text": [
      "5\n",
      "0\n",
      "0\n",
      "1\n"
     ]
    }
   ],
   "source": [
    "\n",
    "def fun_zf(num):\n",
    "    s5 = num / 5\n",
    "    s2 = num % 5 / 2\n",
    "    s1 = num % 5 % 2 / 1\n",
    "    return s1,s2,s5\n",
    "\n",
    "if __name__ =='__main__':\n",
    "    num = int(input())\n",
    "    s1,s2,s5=fun_zf(num)\n",
    "    print(int(s1))\n",
    "    print(int(s2))\n",
    "    print(int(s5))"
   ]
  },
  {
   "cell_type": "code",
   "execution_count": null,
   "metadata": {
    "scrolled": true
   },
   "outputs": [],
   "source": [
    "import numpy as np\n",
    "def fun_ac(li):\n",
    "    li2 = [[]]\n",
    "    li2[0].append(li[0])\n",
    "    for m in li[1:]:\n",
    "        res = 0\n",
    "        for i in li2:\n",
    "            if m[0] > i[-1][1]:\n",
    "                i.append(m)\n",
    "                res = 1\n",
    "        if res == 1:\n",
    "            continue\n",
    "        else:\n",
    "            li2.append([])\n",
    "            li2[-1].append(m)\n",
    "    return li2\n",
    "\n",
    "def fun_in():\n",
    "    num = int(input())\n",
    "    li = []\n",
    "    for n in range(num):\n",
    "        li.append([int(x) for x in input().split()])\n",
    "    return li\n",
    "\n",
    "def fun_test_in():\n",
    "    li = [[1,10],[2,4],[3,6],[5,8],[4,7]]\n",
    "    return li\n",
    "\n",
    "def fun_bc(li, li2):\n",
    "    print(len(li2))\n",
    "    for i in li:\n",
    "        for m in li2:\n",
    "            if i in m:\n",
    "                print(li2.index(m)+1)\n",
    "    \n",
    "    \n",
    "if __name__ == '__main__':\n",
    "    li = fun_in()\n",
    "    #li = fun_ac(li)\n",
    "    #fun_bc(li, fun_ac(li))\n",
    "    #print(li)"
   ]
  },
  {
   "cell_type": "code",
   "execution_count": 11,
   "metadata": {},
   "outputs": [
    {
     "data": {
      "text/plain": [
       "1"
      ]
     },
     "execution_count": 11,
     "metadata": {},
     "output_type": "execute_result"
    }
   ],
   "source": [
    "li_t = [[[1, 10]], [[2, 4], [5, 8]], [[3, 6]], [[4, 7]]]\n",
    "li_t.index([[2,4],[5,8]])"
   ]
  },
  {
   "cell_type": "code",
   "execution_count": 19,
   "metadata": {
    "scrolled": false
   },
   "outputs": [
    {
     "name": "stdout",
     "output_type": "stream",
     "text": [
      "5\n",
      "1 10\n",
      "2 4\n",
      "3 6\n",
      "5 8\n",
      "4 7\n",
      "[[ 1 10]\n",
      " [ 2  4]\n",
      " [ 3  6]\n",
      " [ 5  8]\n",
      " [ 4  7]]\n",
      "qq\n",
      "[[2 4]]\n",
      "[5 8]\n"
     ]
    },
    {
     "ename": "TypeError",
     "evalue": "only integer scalar arrays can be converted to a scalar index",
     "output_type": "error",
     "traceback": [
      "\u001b[1;31m---------------------------------------------------------------------------\u001b[0m",
      "\u001b[1;31mTypeError\u001b[0m                                 Traceback (most recent call last)",
      "\u001b[1;32m<ipython-input-19-d788cc6f7def>\u001b[0m in \u001b[0;36m<module>\u001b[1;34m\u001b[0m\n\u001b[0;32m     38\u001b[0m     \u001b[0mprint\u001b[0m\u001b[1;33m(\u001b[0m\u001b[0mli\u001b[0m\u001b[1;33m)\u001b[0m\u001b[1;33m\u001b[0m\u001b[1;33m\u001b[0m\u001b[0m\n\u001b[0;32m     39\u001b[0m     \u001b[1;31m#print(li.dtype)\u001b[0m\u001b[1;33m\u001b[0m\u001b[1;33m\u001b[0m\u001b[1;33m\u001b[0m\u001b[0m\n\u001b[1;32m---> 40\u001b[1;33m     \u001b[0mm_li\u001b[0m\u001b[1;33m,\u001b[0m\u001b[0msum\u001b[0m \u001b[1;33m=\u001b[0m \u001b[0mfun_ac\u001b[0m\u001b[1;33m(\u001b[0m\u001b[0mli\u001b[0m\u001b[1;33m)\u001b[0m\u001b[1;33m\u001b[0m\u001b[1;33m\u001b[0m\u001b[0m\n\u001b[0m\u001b[0;32m     41\u001b[0m     \u001b[0mprint\u001b[0m\u001b[1;33m(\u001b[0m\u001b[1;34m\"aaa\"\u001b[0m\u001b[1;33m)\u001b[0m\u001b[1;33m\u001b[0m\u001b[1;33m\u001b[0m\u001b[0m\n\u001b[0;32m     42\u001b[0m     \u001b[0mprint\u001b[0m\u001b[1;33m(\u001b[0m\u001b[0msum\u001b[0m\u001b[1;33m)\u001b[0m\u001b[1;33m\u001b[0m\u001b[1;33m\u001b[0m\u001b[0m\n",
      "\u001b[1;32m<ipython-input-19-d788cc6f7def>\u001b[0m in \u001b[0;36mfun_ac\u001b[1;34m(li)\u001b[0m\n\u001b[0;32m     12\u001b[0m                 \u001b[0mprint\u001b[0m\u001b[1;33m(\u001b[0m\u001b[0mm\u001b[0m\u001b[1;33m)\u001b[0m\u001b[1;33m\u001b[0m\u001b[1;33m\u001b[0m\u001b[0m\n\u001b[0;32m     13\u001b[0m                 \u001b[1;31m#np_li2[i] = np.insert(np_li2[i], len(np_li2[i]), [[m]], axis=0)\u001b[0m\u001b[1;33m\u001b[0m\u001b[1;33m\u001b[0m\u001b[1;33m\u001b[0m\u001b[0m\n\u001b[1;32m---> 14\u001b[1;33m                 \u001b[0mnp_li2\u001b[0m\u001b[1;33m[\u001b[0m\u001b[0mi\u001b[0m\u001b[1;33m]\u001b[0m \u001b[1;33m=\u001b[0m \u001b[0mnp\u001b[0m\u001b[1;33m.\u001b[0m\u001b[0mconcatenate\u001b[0m\u001b[1;33m(\u001b[0m\u001b[0mnp_li2\u001b[0m\u001b[1;33m[\u001b[0m\u001b[0mi\u001b[0m\u001b[1;33m]\u001b[0m\u001b[1;33m,\u001b[0m \u001b[0mnp\u001b[0m\u001b[1;33m.\u001b[0m\u001b[0marray\u001b[0m\u001b[1;33m(\u001b[0m\u001b[1;33m[\u001b[0m\u001b[0mm\u001b[0m\u001b[1;33m]\u001b[0m\u001b[1;33m,\u001b[0m\u001b[0mdtype\u001b[0m\u001b[1;33m=\u001b[0m\u001b[1;34m'int'\u001b[0m\u001b[1;33m)\u001b[0m\u001b[1;33m,\u001b[0m \u001b[0maxis\u001b[0m\u001b[1;33m=\u001b[0m\u001b[1;36m0\u001b[0m\u001b[1;33m)\u001b[0m\u001b[1;33m\u001b[0m\u001b[1;33m\u001b[0m\u001b[0m\n\u001b[0m\u001b[0;32m     15\u001b[0m                 \u001b[0mres\u001b[0m \u001b[1;33m=\u001b[0m \u001b[1;36m1\u001b[0m\u001b[1;33m\u001b[0m\u001b[1;33m\u001b[0m\u001b[0m\n\u001b[0;32m     16\u001b[0m         \u001b[1;32mif\u001b[0m \u001b[0mres\u001b[0m \u001b[1;33m==\u001b[0m \u001b[1;36m1\u001b[0m\u001b[1;33m:\u001b[0m\u001b[1;33m\u001b[0m\u001b[1;33m\u001b[0m\u001b[0m\n",
      "\u001b[1;31mTypeError\u001b[0m: only integer scalar arrays can be converted to a scalar index"
     ]
    }
   ],
   "source": [
    "import numpy as np\n",
    "\n",
    "def fun_ac(li):\n",
    "    np_li2 = np.array([[li[0]]])\n",
    "    sum = 1\n",
    "    for m in li[1:]:\n",
    "        res = 0\n",
    "        for i in range(len(np_li2)):\n",
    "            if m[0] > np_li2[i][-1][1]:\n",
    "                print(\"qq\")\n",
    "                print(np_li2[i])\n",
    "                print(m)\n",
    "                #np_li2[i] = np.insert(np_li2[i], len(np_li2[i]), [[m]], axis=0)\n",
    "                np_li2[i] = np.concatenate(np_li2[i], np.array([m],dtype='int'), axis=0)\n",
    "                res = 1\n",
    "        if res == 1:\n",
    "            continue\n",
    "        else:\n",
    "            np_li2 = np.append(np_li2, [[m]], axis=0)\n",
    "            sum += 1\n",
    "    return np_li2,sum\n",
    "\n",
    "def fun_in():\n",
    "    num = int(input())\n",
    "    np_in = np.zeros((num,2))\n",
    "    for n in range(num):\n",
    "        np_in[n] = input().split()\n",
    "    np_in = np_in.astype('int')\n",
    "    return np_in\n",
    "\n",
    "def fun_bc(li):\n",
    "    for i in li:np_in.dtype\n",
    "        #print(i[-1])\n",
    "    \n",
    "    \n",
    "if __name__ == '__main__':\n",
    "    li = fun_in()\n",
    "    print(li)\n",
    "    #print(li.dtype)\n",
    "    m_li,sum = fun_ac(li)\n",
    "    print(\"aaa\")\n",
    "    print(sum)\n",
    "    print(\"aaa\")\n",
    "    print(m_li)\n",
    "    #for i in m_li:\n",
    "    #    print(i[-1])\n",
    "    #fun_bc(li))\n",
    "    #print(li)"
   ]
  },
  {
   "cell_type": "code",
   "execution_count": null,
   "metadata": {},
   "outputs": [],
   "source": []
  }
 ],
 "metadata": {
  "kernelspec": {
   "display_name": "Python 3",
   "language": "python",
   "name": "python3"
  },
  "language_info": {
   "codemirror_mode": {
    "name": "ipython",
    "version": 3
   },
   "file_extension": ".py",
   "mimetype": "text/x-python",
   "name": "python",
   "nbconvert_exporter": "python",
   "pygments_lexer": "ipython3",
   "version": "3.7.3"
  }
 },
 "nbformat": 4,
 "nbformat_minor": 2
}
