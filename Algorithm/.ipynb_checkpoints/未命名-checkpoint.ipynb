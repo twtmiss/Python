{
 "cells": [
  {
   "cell_type": "markdown",
   "metadata": {},
   "source": [
    "# 7-1 Plan （15 分)\n",
    "\n",
    "Qingdao Institute of Technology is the highest academic institution in Jiaozhou, so it has extremely strict discipline. In order to get a good grades, Li had to prepare a review route in advance to cope with the fianl exam. There are n liberal arts exams in this semester, and there are 4 exam subjects, namely politics, history, geography and synthesis. Every time you take a test but it is uncertain, so Li don't know which course to review before the exam. He hopes to predict the exams that may be tested next time. So he collected information in previous liberal arts exams. From the previous exams, he discovered several rules:\n",
    "\n",
    "    If the test is political, then the next time you will test the history;\n",
    "    If the test is comprehensive, then the next time you will test the geography;\n",
    "    If the test is history, then the next time you will take politics or geography;\n",
    "    If the test is geography, then the next time you either take the test or combine it. Li already knows that the first exam in this semester is political. He intends to develop an exam review plan that can address all possible situations. Therefore, he would like to know how many possible test subjects are arranged throughout the semester to meet the above rules.\n",
    "\n",
    "输入格式:\n",
    "\n",
    "A positive integer n represents the total number of exams for the semester. The input data is guaranteed to be n<=10000.\n",
    "输出格式:\n",
    "\n",
    "A positive integer indicating the total number of subject arrangements for the rule. Considering that this result can be very large, you only need to output the value of mod 7654321."
   ]
  },
  {
   "cell_type": "code",
   "execution_count": 3,
   "metadata": {},
   "outputs": [
    {
     "name": "stdout",
     "output_type": "stream",
     "text": [
      "5\n",
      "[['political']]\n",
      "111\n",
      "['political']\n",
      "political\n",
      "for2history\n",
      "111\n",
      "['history']\n",
      "history\n",
      "for2political\n",
      "for2geography\n",
      "111\n",
      "['political', 'geography']\n",
      "political\n",
      "for2history\n",
      "geography\n",
      "for2history\n",
      "for2comprehensive\n",
      "111\n",
      "['history', 'history', 'comprehensive']\n",
      "history\n",
      "for2political\n",
      "for2geography\n",
      "history\n",
      "for2political\n",
      "for2geography\n",
      "comprehensive\n",
      "for2geography\n",
      "haha\n",
      "5\n",
      "['political']\n",
      "['history']\n",
      "['political', 'geography']\n",
      "['history', 'history', 'comprehensive']\n",
      "['political', 'geography', 'political', 'geography', 'geography']\n",
      "5\n"
     ]
    }
   ],
   "source": [
    "test_dict = {\"political\":[\"history\"],\"comprehensive\":[\"geography\"],\"history\":[\"political\",\"geography\"],\"geography\":[\"history\",\"comprehensive\"]}\n",
    "def a():\n",
    "    n=int(input())\n",
    "    m=1\n",
    "    li = [[\"political\"]]\n",
    "    lit = []\n",
    "    test_first = \"political\"\n",
    "    #li.append(test_dict[test_first])\n",
    "    print(li)\n",
    "    while(m<n):\n",
    "        \n",
    "        for li1 in li:\n",
    "            if(m>=n):\n",
    "                break\n",
    "            print(\"111\")\n",
    "            print(li1)\n",
    "            for qw in li1:\n",
    "                print(qw)\n",
    "                for str in test_dict[qw]:\n",
    "                    print(\"for2\"+str)\n",
    "                    lit.append(str)\n",
    "            li.append(lit)\n",
    "            lit=[]\n",
    "            \n",
    "            m=m+1\n",
    "        print(\"haha\")\n",
    "    \n",
    "    print(len(li))\n",
    "    for i in li:\n",
    "        print(i)\n",
    "    print(len(li[n-1]))\n",
    "    \n",
    "a()\n",
    "    \n",
    "        "
   ]
  },
  {
   "cell_type": "code",
   "execution_count": null,
   "metadata": {},
   "outputs": [],
   "source": [
    "li = [[\"political\"]]\n",
    "for i in li[0]:\n",
    "    print(i)"
   ]
  },
  {
   "cell_type": "code",
   "execution_count": null,
   "metadata": {},
   "outputs": [],
   "source": []
  }
 ],
 "metadata": {
  "kernelspec": {
   "display_name": "Python 3",
   "language": "python",
   "name": "python3"
  }
 },
 "nbformat": 4,
 "nbformat_minor": 2
}
