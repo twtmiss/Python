{
 "cells": [
  {
   "cell_type": "raw",
   "metadata": {},
   "source": [
    "# 冒泡排序算法"
   ]
  },
  {
   "cell_type": "code",
   "execution_count": 30,
   "metadata": {},
   "outputs": [
    {
     "name": "stdout",
     "output_type": "stream",
     "text": [
      "6 2\n",
      "best\n",
      "east\n",
      "cat\n",
      "a\n",
      "free\n",
      "day\n",
      "best\n",
      "a\n",
      "cat\n",
      "day\n",
      "east\n",
      "free\n"
     ]
    }
   ],
   "source": [
    "scan = input()\n",
    "n1 = int(scan[0])\n",
    "n2 = int(scan[-1])\n",
    "list = []\n",
    "for n in range(n1):\n",
    "    list.append(input())\n",
    "    \n",
    "for i in range(n2):\n",
    "    for m in range(n1-1-i):\n",
    "        if(list[m] > list[m+1]):\n",
    "            str1 = list[m]\n",
    "            list[m] = list[m+1]\n",
    "            list[m+1] = str1\n",
    "            \n",
    "for qun in list:\n",
    "    print(qun)"
   ]
  },
  {
   "cell_type": "markdown",
   "metadata": {},
   "source": [
    "7-3 统计工龄 （20 分)\n",
    "给定公司N名员工的工龄，要求按工龄增序输出每个工龄段有多少员工。\n",
    "\n",
    "输入格式:\n",
    "输入首先给出正整数N（≤10^5），即员工总人数；随后给出N个整数，即每个员工的工龄，范围在[0, 50]。\n",
    "\n",
    "输出格式:\n",
    "按工龄的递增顺序输出每个工龄的员工个数，格式为：“工龄:人数”。每项占一行。如果人数为0则不输出该项。\n",
    "\n",
    "输入样例:\n",
    "8\n",
    "10 2 0 5 7 2 5 2\n",
    "输出样例:\n",
    "0:1\n",
    "2:3\n",
    "5:2\n",
    "7:1\n",
    "10:1"
   ]
  },
  {
   "cell_type": "code",
   "execution_count": 111,
   "metadata": {},
   "outputs": [
    {
     "name": "stdout",
     "output_type": "stream",
     "text": [
      "8\n",
      "10 2 0 5 7 2 5 2\n"
     ]
    },
    {
     "ename": "TypeError",
     "evalue": "'list' object is not callable",
     "output_type": "error",
     "traceback": [
      "\u001b[0;31m---------------------------------------------------------------------------\u001b[0m",
      "\u001b[0;31mTypeError\u001b[0m                                 Traceback (most recent call last)",
      "\u001b[0;32m<ipython-input-111-4bbaa8b45231>\u001b[0m in \u001b[0;36m<module>\u001b[0;34m\u001b[0m\n\u001b[1;32m     10\u001b[0m     \u001b[0;32melse\u001b[0m\u001b[0;34m:\u001b[0m\u001b[0;34m\u001b[0m\u001b[0;34m\u001b[0m\u001b[0m\n\u001b[1;32m     11\u001b[0m         \u001b[0mdict\u001b[0m\u001b[0;34m[\u001b[0m\u001b[0mi\u001b[0m\u001b[0;34m]\u001b[0m \u001b[0;34m=\u001b[0m \u001b[0;36m1\u001b[0m\u001b[0;34m\u001b[0m\u001b[0;34m\u001b[0m\u001b[0m\n\u001b[0;32m---> 12\u001b[0;31m \u001b[0mprint\u001b[0m\u001b[0;34m(\u001b[0m\u001b[0mlist\u001b[0m\u001b[0;34m(\u001b[0m\u001b[0mdict\u001b[0m\u001b[0;34m)\u001b[0m\u001b[0;34m)\u001b[0m\u001b[0;34m\u001b[0m\u001b[0;34m\u001b[0m\u001b[0m\n\u001b[0m\u001b[1;32m     13\u001b[0m \u001b[0mdict\u001b[0m\u001b[0;34m.\u001b[0m\u001b[0mvalues\u001b[0m\u001b[0;34m(\u001b[0m\u001b[0;34m)\u001b[0m\u001b[0;34m\u001b[0m\u001b[0;34m\u001b[0m\u001b[0m\n\u001b[1;32m     14\u001b[0m \u001b[0;31m#print(dict.items())\u001b[0m\u001b[0;34m\u001b[0m\u001b[0;34m\u001b[0m\u001b[0;34m\u001b[0m\u001b[0m\n",
      "\u001b[0;31mTypeError\u001b[0m: 'list' object is not callable"
     ]
    }
   ],
   "source": [
    "scan = int(input())\n",
    "str1 = input().split()\n",
    "dict = {}\n",
    "list1 = []\n",
    "list2 = [[]]\n",
    "list3 = []\n",
    "for i in str1:\n",
    "    if(i in dict):\n",
    "        dict[i] = dict[i]+1\n",
    "    else:\n",
    "        dict[i] = 1\n",
    "print(list(dict))\n",
    "dict.values()\n",
    "#print(dict.items())\n",
    "#n=0\n",
    "#for n in range\n",
    "\n",
    "'''\n",
    "for str2,str3 in dict.items():\n",
    "    list2[n].append(str2)\n",
    "    list2[n].append(str3)\n",
    "    print(list2)\n",
    "    n=n+1\n",
    "    list1.append(str2)\n",
    "    list1.append(str3)\n",
    "    list2.append(list1)\n",
    "    list=[]'''\n",
    "\n",
    "#print(list1)\n",
    "#print(sorted(list1))\n",
    "#print(list2)"
   ]
  },
  {
   "cell_type": "code",
   "execution_count": 103,
   "metadata": {},
   "outputs": [
    {
     "data": {
      "text/plain": [
       "[[1, 1]]"
      ]
     },
     "execution_count": 103,
     "metadata": {},
     "output_type": "execute_result"
    }
   ],
   "source": [
    "list=[]\n",
    "list2=[[]]\n",
    "list.append(1)\n",
    "list.append(2)\n",
    "list2[0].append(1)\n",
    "list2[0].append(1)\n",
    "list2"
   ]
  },
  {
   "cell_type": "code",
   "execution_count": null,
   "metadata": {},
   "outputs": [],
   "source": []
  }
 ],
 "metadata": {
  "kernelspec": {
   "display_name": "Python 3",
   "language": "python",
   "name": "python3"
  },
  "language_info": {
   "codemirror_mode": {
    "name": "ipython",
    "version": 3
   },
   "file_extension": ".py",
   "mimetype": "text/x-python",
   "name": "python",
   "nbconvert_exporter": "python",
   "pygments_lexer": "ipython3",
   "version": "3.6.8"
  }
 },
 "nbformat": 4,
 "nbformat_minor": 2
}
